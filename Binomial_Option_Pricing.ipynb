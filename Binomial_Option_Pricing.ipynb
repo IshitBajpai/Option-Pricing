{
  "nbformat": 4,
  "nbformat_minor": 0,
  "metadata": {
    "colab": {
      "provenance": []
    },
    "kernelspec": {
      "name": "python3",
      "display_name": "Python 3"
    },
    "language_info": {
      "name": "python"
    }
  },
  "cells": [
    {
      "cell_type": "code",
      "execution_count": 39,
      "metadata": {
        "id": "ZjAwPt2g3JWD"
      },
      "outputs": [],
      "source": [
        "import numpy as np\n",
        "import math"
      ]
    },
    {
      "cell_type": "code",
      "source": [
        "# C(t) = e^(-r∆t) (q*C_u(t+∆t) + (1-q)*C_d(t+∆t))\n",
        "# q = (e^(r∆t) - d)/(u - d)\n",
        "\n",
        "def BinomialPricing_European(S,K,T,N,u,d,r):\n",
        "  delta_t = T/N\n",
        "  q = ((math.e)**(r*delta_t) - d)/(u-d)\n",
        "\n",
        "  leaf_nodes = N + 1  # number of leaf nodes\n",
        "  S_leaf_max  = S * (u ** N) # max stock price at leaf node the upper most one\n",
        "  S_leaf_nodes = [(S_leaf_max * (d**i))/ (u ** i) for i in range(N+1)] # Stock @ maturity\n",
        "  option_payoff = [max(0, S_leaf_nodes[i] - K) for i in range(len(S_leaf_nodes))] # Value of call @ maturity\n",
        "\n",
        "  for i in range(N): # iterating back to 0th time period\n",
        "    for j in range(N - i):\n",
        "      C =  (math.e**(-r*delta_t)) * ((q*option_payoff[j]) + ((1-q)*option_payoff[j+1]))\n",
        "      option_payoff[j] =  C\n",
        "\n",
        "  return option_payoff[0]"
      ],
      "metadata": {
        "id": "wpDHuUQv3rat"
      },
      "execution_count": 38,
      "outputs": []
    },
    {
      "cell_type": "code",
      "source": [
        "S0 = 100      # Stock price @ t = 0\n",
        "K = 100       # Strike price\n",
        "T = 8         # Time to expiry (years)\n",
        "r = 0.06      # risk-free rate (p.a)\n",
        "N = 4        # steps\n",
        "u = 2       # up factor\n",
        "d = 1/u       # down factor (makes ud and du indifferent)\n",
        "\n",
        "BinomialPricing_European(S0,K,T,N,u,d,r)"
      ],
      "metadata": {
        "colab": {
          "base_uri": "https://localhost:8080/"
        },
        "id": "HxYBV4w3baAk",
        "outputId": "6169bd7b-334d-4ce2-ab32-4c34bb838cba"
      },
      "execution_count": 43,
      "outputs": [
        {
          "output_type": "execute_result",
          "data": {
            "text/plain": [
              "60.04530437255597"
            ]
          },
          "metadata": {},
          "execution_count": 43
        }
      ]
    },
    {
      "cell_type": "code",
      "source": [
        "def BinomialPricing_American(S,K,T,N,u,d,r):\n",
        "  delta_t = T/N\n",
        "  q = ((math.e)**(r*delta_t) - d)/(u-d)\n",
        "\n",
        "  stock = [] # contains stock prices from t = 0 - N + 1\n",
        "  payoffs = []\n",
        "  for i in range(N+1):\n",
        "    stock.append( [S * (u ** j) * d ** (i - j) for j in range(i+1)][::-1] )\n",
        "    payoffs.append( [0] * (i+1) )\n",
        "\n",
        "  option_payoff = [max(0, K - stock[-1][i]) for i in range(len(stock[-1]))] # Value of put @ maturity\n",
        "  payoffs[-1] = option_payoff\n",
        "\n",
        "  for i in range(N-1,-1,-1): # iterating back to 0th time period\n",
        "    for j in range(i+1):\n",
        "      # print(i,j)\n",
        "      value_of_keeping_option =  (math.e**(-r*delta_t)) * ((q*payoffs[i+1][j]) + ((1-q)*payoffs[i+1][j+1]))\n",
        "      payoff_at_excercising  = max(0, K - stock[i][j])\n",
        "      payoffs[i][j] = max(payoff_at_excercising,value_of_keeping_option)\n",
        "\n",
        "  return payoffs[0][0]"
      ],
      "metadata": {
        "id": "xCn-_NZ7wthH"
      },
      "execution_count": 78,
      "outputs": []
    },
    {
      "cell_type": "code",
      "source": [
        "S0 = 100      # initial stock price\n",
        "K = 100       # strike price\n",
        "T = 1         # time to maturity in years\n",
        "r = 0.08      # annual risk-free rate\n",
        "N = 6         # number of time steps\n",
        "u = 1.1       # up-factor in binomial models\n",
        "d = 1/u       # ensure recombining tree\n",
        "\n",
        "\n",
        "\n",
        "print(BinomialPricing_American(S0,K,T,N,u,d,r))"
      ],
      "metadata": {
        "colab": {
          "base_uri": "https://localhost:8080/"
        },
        "id": "CO3uEzZkN4m0",
        "outputId": "e516c503-3e7d-4c9c-b479-d628005efd5a"
      },
      "execution_count": 77,
      "outputs": [
        {
          "output_type": "stream",
          "name": "stdout",
          "text": [
            "6.3372891599536025\n"
          ]
        }
      ]
    },
    {
      "cell_type": "code",
      "source": [],
      "metadata": {
        "id": "q6aTd3MXOtIX"
      },
      "execution_count": null,
      "outputs": []
    }
  ]
}